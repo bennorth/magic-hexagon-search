{
 "cells": [
  {
   "cell_type": "code",
   "execution_count": null,
   "id": "8175c455-2071-421a-aefb-6d556b565f93",
   "metadata": {},
   "outputs": [],
   "source": [
    "import pandas as pd\n",
    "import numpy as np\n",
    "import math\n",
    "import seaborn as sns\n",
    "import matplotlib.pyplot as plt"
   ]
  },
  {
   "cell_type": "code",
   "execution_count": null,
   "id": "48dc78ae-8917-4bab-96ef-c188211033c8",
   "metadata": {},
   "outputs": [],
   "source": [
    "n_perms = math.factorial(19)\n",
    "runtimes = pd.DataFrame.from_records(\n",
    "    [\n",
    "        (\"Python exhaustive search\", n_perms / 470e3),\n",
    "        (\"Translate fairly directly to C++\", n_perms / 8e6),\n",
    "        (\"Generate permutations with stdlib func\", n_perms / 180e6),\n",
    "        (\"Check for solution with hard-coded logic\", n_perms / 290e6),\n",
    "        (\"Check as soon as each line completed\", 65.0),\n",
    "        (\"Fill cells in inward spiral sequence\", 470e-3),\n",
    "        (\"Deduce last cell in each line\", 60e-3),\n",
    "        (\"Store state in one combined array\", 10e-3),\n",
    "        (\"Swap, explore, swap back\", 7e-3),\n",
    "    ],\n",
    "    columns=[\"summary\", \"time\"],\n",
    ")\n",
    "\n",
    "runtimes[\"log_time\"] = np.log(runtimes[\"time\"])"
   ]
  },
  {
   "cell_type": "code",
   "execution_count": null,
   "id": "258d5418-8ce8-4845-85c7-c8543af6ccb8",
   "metadata": {},
   "outputs": [],
   "source": [
    "overall_gain = runtimes.iloc[0][\"time\"] / runtimes.iloc[-1][\"time\"]\n",
    "f\"{overall_gain:.1e}\""
   ]
  },
  {
   "cell_type": "code",
   "execution_count": null,
   "id": "ece906b8-3065-4a64-a154-10e6372a13c8",
   "metadata": {},
   "outputs": [],
   "source": [
    "fig, ax = plt.subplots(figsize=(9.0, 3.0))\n",
    "f = sns.scatterplot(data=runtimes, x=\"log_time\", y=0.0, size=5.0, color=\"black\", ax=ax)\n",
    "ax.get_legend().remove()\n",
    "sns.despine(left=True)\n",
    "yr = 86400 * 365.25\n",
    "\n",
    "# Turned out month and millennium made it too crowded:\n",
    "time_marks = [\n",
    "    (1.0e-3, \"millisecond\"),\n",
    "    (1.0, \"second\"),\n",
    "    (60.0, \"minute\"), \n",
    "    (3600.0, \"hour\"),\n",
    "    (86400.0, \"day\"),\n",
    "    (7 * 84600.0, \"week\"),\n",
    "    # (86400 * 30, \"month\"),\n",
    "    (yr, \"year\"),\n",
    "    (100.0 * yr, \"century\"),\n",
    "    # (1000.0 * yr, \"millennium\"),\n",
    "    (1e4 * yr, \"10,000yrs\")]\n",
    "\n",
    "f.set_ylim(-0.5, 9.1)\n",
    "\n",
    "line_kwargs = {\"lw\": 0.8, \"color\": \"black\", \"capstyle\": \"projecting\"}\n",
    "for y, record in enumerate(runtimes.itertuples()):\n",
    "    y_lbl = 9.0 - y\n",
    "    x_lbl = -6.0\n",
    "    f.text(x_lbl, y_lbl, record.summary, ha=\"right\", va=\"center_baseline\")\n",
    "    f.hlines(y_lbl, x_lbl + 0.25, record.log_time, **line_kwargs)\n",
    "    f.vlines(record.log_time, 0.0, y_lbl, **line_kwargs)\n",
    "    \n",
    "f.set(xticks=np.log([tm[0] for tm in time_marks]),\n",
    "      xticklabels=[tm[1] for tm in time_marks])\n",
    "f.set(yticks=[])\n",
    "f.set_xlabel(\"\")\n",
    "\n",
    "fig.savefig(\"runtime-evolution.png\", dpi=300, bbox_inches=\"tight\")"
   ]
  }
 ],
 "metadata": {
  "kernelspec": {
   "display_name": "Python 3 (ipykernel)",
   "language": "python",
   "name": "python3"
  },
  "language_info": {
   "codemirror_mode": {
    "name": "ipython",
    "version": 3
   },
   "file_extension": ".py",
   "mimetype": "text/x-python",
   "name": "python",
   "nbconvert_exporter": "python",
   "pygments_lexer": "ipython3",
   "version": "3.10.12"
  }
 },
 "nbformat": 4,
 "nbformat_minor": 5
}
